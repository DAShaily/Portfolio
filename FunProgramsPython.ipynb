{
 "cells": [
  {
   "cell_type": "code",
   "execution_count": null,
   "metadata": {},
   "outputs": [],
   "source": [
    "# B. Determine whether the player beat the computer at rock, paper, scissors\n",
    "#    As a reminder, \"rock\" beats \"paper\", \"paper\" beats \"scissors\", and \"scissors\" beats \"rock\"\n",
    "#.   Print a message saying whether the player won, lost, or tied\n",
    "player_choice = \"rock\"\n",
    "computer_choice = \"scissors\"\n",
    "possible_actions=[\"rock\",\"paper\",\"scissors\"]\n",
    "\n",
    "if player_choice == computer_choice:\n",
    "    print(f\"Its a tie\")\n",
    "#6 more possibilities SR,SP,PS,PR,RS,RP\n",
    "elif player_choice == \"scissors\" and computer_choice == \"rock\":\n",
    "    print(f\"{player_choice} is the winner.\")\n",
    "elif player_choice == \"scissors\" and computer_choice == \"paper\":\n",
    "    print(f\"{computer_choice} is the winner\")\n",
    "elif player_choice == \"paper\" and computer_choice == \"scissors\":\n",
    "    print(f\"{player_choice} is the winner\")\n",
    "elif player_choice == \"paper\" and computer_choice == \"rock\":\n",
    "    print(f\"{computer_choice} is the winner\")\n",
    "elif player_choice == \"rock\" and computer_choice == \"scissors\":\n",
    "    print(f\"{computer_choice} is the winner\")\n",
    "elif player_choice == \"rock\" and computer_choice == \"paper\":\n",
    "    print(f\"{player_choice} is the winner\")            \n",
    "\n",
    "    "
   ]
  },
  {
   "cell_type": "code",
   "execution_count": null,
   "metadata": {},
   "outputs": [],
   "source": [
    "# C. Write the code that determines if the triangle is:\n",
    "#      equalateral - all three sides are equal in length\n",
    "#      scalene - all three sides are unequal in length\n",
    "#      isosceles - two sides are the same length\n",
    "side_a = 51\n",
    "side_b = 5\n",
    "side_c = 51\n",
    "\n",
    "# Possibilities eee,nnn,nne,nee,nee,nen,enn,een\n",
    "\n",
    "if side_a == side_b:\n",
    "    if side_a == side_c:\n",
    "        print (f\"Its an Equilateral triangle\")\n",
    "    else:   \n",
    "        print (f\"Its an isoceles triangle\") \n",
    "elif side_a != side_b:\n",
    "    if side_a == side_c:\n",
    "        print (f\"Its an isoceles triangle\") \n",
    "    elif side_b == side_c:      \n",
    "        print (f\"Its an isoceles triangle\") \n",
    "    else:  \n",
    "        print (f\"Its an scalene triangle\")  "
   ]
  },
  {
   "cell_type": "code",
   "execution_count": null,
   "metadata": {},
   "outputs": [],
   "source": [
    "garage = [\"bike\", \"mess\", \"generator\", \"mess\", \"mess\", \"tools\", \"car\", \"mess\"]\n",
    "print(f\"Messy garage {garage}\")\n",
    "\n",
    "while \"mess\" in garage:\n",
    "   garage.remove(\"mess\")\n",
    "print (f\"Garage with no mess {garage}\") "
   ]
  },
  {
   "cell_type": "code",
   "execution_count": null,
   "metadata": {},
   "outputs": [],
   "source": [
    "# C. Shop till you've dropped 1000 dollars! Add each item to the purchases list until the total price exceeds 1000\n",
    "store = [\n",
    "    {\"item\": \"mountain bike\", \"price\": 375},\n",
    "    {\"item\": \"tambourine\", \"price\": 50},\n",
    "    {\"item\": \"massage chair\", \"price\": 700},\n",
    "    {\"item\": \"worlds best programmer mug\", \"price\": 10},\n",
    "    {\"item\": \"new computer\", \"price\": 1500}\n",
    "]\n",
    "\n",
    "purchases = []\n",
    "total_price = 0\n",
    "for i in store:\n",
    "    purchases.append(i[\"item\"])\n",
    "    print (purchases) \n",
    "    if total_price+i[\"price\"] < 1000:\n",
    "        total_price += i[\"price\"]            \n",
    "        print (total_price)"
   ]
  },
  {
   "cell_type": "code",
   "execution_count": null,
   "metadata": {},
   "outputs": [],
   "source": [
    "#Guess the number game\n",
    "\n",
    "#numEntered = int(input(\"Enter a number\"))\n",
    "actualNumber = 22\n",
    "isMatch= False\n",
    "\n",
    "while (isMatch == False):\n",
    "    numToEnter =input(\"Enter a number\")\n",
    "    try:   \n",
    "        numEntered = int(numToEnter)\n",
    "        if numEntered > actualNumber:\n",
    "            print(f\"{numEntered} is too high!Try again\")\n",
    "        \n",
    "        elif numEntered < actualNumber:\n",
    "            print(f\"{numEntered} is too low!Try again\")   \n",
    "        elif numEntered == actualNumber:\n",
    "            isMatch=True\n",
    "            print(\"You got it!\")  \n",
    "    except ValueError:\n",
    "        print(\"That is not a number\") \n",
    "       # continue\n",
    "          "
   ]
  },
  {
   "cell_type": "markdown",
   "metadata": {},
   "source": [
    "### Challenge 1: Largest Palindrome\n",
    "A palindromic number reads the same both ways. For example, 1234321 is a palindrome. The largest palindrome made from the product of two two-digit numbers is 9009 = 91 × 99. Find the largest palindrome made from the product of two three-digit numbers. Afterward, write a brief explanation walking through your code's logic in markdown."
   ]
  },
  {
   "cell_type": "markdown",
   "metadata": {},
   "source": []
  },
  {
   "cell_type": "code",
   "execution_count": null,
   "metadata": {},
   "outputs": [],
   "source": [
    "prevPalindrome = 0\n",
    "\n",
    "for firstNum in range(100,999):\n",
    "    for secondNum in range(100,999):\n",
    "        try:\n",
    "            prodNum = firstNum * secondNum\n",
    "            if str(prodNum) == str(prodNum)[::-1]:\n",
    "                print(prodNum)\n",
    "                print(prevPalindrome)\n",
    "                if prevPalindrome >= prodNum :\n",
    "                   print(f\"{prevPalindrome} is the largest palindrome made from 3 digit numbers\") \n",
    "                   break\n",
    "                else:\n",
    "                   prevPalindrome = prodNum\n",
    "                    \n",
    "        except:\n",
    "            print(\"Oops something went wrong\")        \n"
   ]
  },
  {
   "cell_type": "markdown",
   "metadata": {},
   "source": [
    "### *BONUS* Challenge: FizzBuzz\n",
    "Write a program that prints all of the numbers from 1 to 100. For multiples of 3, instead of the number, print \"Fizz;\" for multiples of 5, print \"Buzz.\" For numbers that are multiples of both 3 and 5, print \"FizzBuzz.\" Afterward, write a brief explanation walking through your code's logic in markdown."
   ]
  },
  {
   "cell_type": "code",
   "execution_count": 1,
   "metadata": {},
   "outputs": [
    {
     "name": "stdout",
     "output_type": "stream",
     "text": [
      "0  is  FizzBuzz\n",
      "3  is  Fizzzzzz\n",
      "5  is  Buzzzzzzzz\n",
      "6  is  Fizzzzzz\n",
      "9  is  Fizzzzzz\n",
      "10  is  Buzzzzzzzz\n",
      "12  is  Fizzzzzz\n",
      "15  is  FizzBuzz\n",
      "18  is  Fizzzzzz\n",
      "20  is  Buzzzzzzzz\n",
      "21  is  Fizzzzzz\n",
      "24  is  Fizzzzzz\n",
      "25  is  Buzzzzzzzz\n",
      "27  is  Fizzzzzz\n",
      "30  is  FizzBuzz\n",
      "33  is  Fizzzzzz\n",
      "35  is  Buzzzzzzzz\n",
      "36  is  Fizzzzzz\n",
      "39  is  Fizzzzzz\n",
      "40  is  Buzzzzzzzz\n",
      "42  is  Fizzzzzz\n",
      "45  is  FizzBuzz\n",
      "48  is  Fizzzzzz\n",
      "50  is  Buzzzzzzzz\n",
      "51  is  Fizzzzzz\n",
      "54  is  Fizzzzzz\n",
      "55  is  Buzzzzzzzz\n",
      "57  is  Fizzzzzz\n",
      "60  is  FizzBuzz\n",
      "63  is  Fizzzzzz\n",
      "65  is  Buzzzzzzzz\n",
      "66  is  Fizzzzzz\n",
      "69  is  Fizzzzzz\n",
      "70  is  Buzzzzzzzz\n",
      "72  is  Fizzzzzz\n",
      "75  is  FizzBuzz\n",
      "78  is  Fizzzzzz\n",
      "80  is  Buzzzzzzzz\n",
      "81  is  Fizzzzzz\n",
      "84  is  Fizzzzzz\n",
      "85  is  Buzzzzzzzz\n",
      "87  is  Fizzzzzz\n",
      "90  is  FizzBuzz\n",
      "93  is  Fizzzzzz\n",
      "95  is  Buzzzzzzzz\n",
      "96  is  Fizzzzzz\n",
      "99  is  Fizzzzzz\n"
     ]
    }
   ],
   "source": [
    "for i in range(0,100):\n",
    "    if i%3 ==0:\n",
    "        if i%5 == 0:\n",
    "            print(i,\" is \",\"FizzBuzz\")\n",
    "        elif (i%3 ==0):\n",
    "            print(i,\" is \",\"Fizzzzzz\")\n",
    "    elif(i%5 == 0 and i%3 != 0):\n",
    "        print(i,\" is \",\"Buzzzzzzzz\")\n",
    "  \n",
    "    "
   ]
  },
  {
   "cell_type": "markdown",
   "metadata": {},
   "source": [
    "\n",
    "### Challenge 2: Summation of Primes\n",
    "The sum of the primes below 10 is 2 + 3 + 5 + 7 = 17. Find the sum of all the primes below 2,000. Afterward, write a brief explanation walking through your code's logic in markdown."
   ]
  },
  {
   "cell_type": "code",
   "execution_count": 2,
   "metadata": {},
   "outputs": [
    {
     "name": "stdout",
     "output_type": "stream",
     "text": [
      "4  is not prime\n",
      "6  is not prime\n",
      "Sum of primes is 17\n"
     ]
    }
   ],
   "source": [
    "\n",
    "sumOfPrimes = 2\n",
    "for numToCheck in range(3,8):        \n",
    "    isPrime = True\n",
    "    for num in range(2,numToCheck):\n",
    "        if numToCheck % num == 0 and num != numToCheck:       \n",
    "            print (numToCheck,\" is not prime\")\n",
    "            isPrime = False\n",
    "            break\n",
    "    if (isPrime):\n",
    "        sumOfPrimes += numToCheck            \n",
    "print (\"Sum of primes is\",  sumOfPrimes)        "
   ]
  },
  {
   "cell_type": "markdown",
   "metadata": {},
   "source": [
    "### Challenge 3: Multiples of 3 and 5\n",
    "If we list all of the natural numbers below 10 that are multiples of 3 or 5, we get 3, 5, 6, and 9. The sum of these multiples is 23. Find the sum of all the multiples of 3 and 5 below 1,000. Afterward, write a brief explanation walking through your code's logic in markdown."
   ]
  },
  {
   "cell_type": "code",
   "execution_count": 3,
   "metadata": {},
   "outputs": [
    {
     "name": "stdout",
     "output_type": "stream",
     "text": [
      "Sum of natural numbers that are multiples of 3,5 below 1000 is  233168\n"
     ]
    }
   ],
   "source": [
    "def sum_natural_numbers(numtill):\n",
    "    sum=0    \n",
    "    for i in range(0,numtill):\n",
    "        if (i%3 ==0 or i%5 == 0):\n",
    "         sum += i\n",
    "    print(\"Sum of natural numbers that are multiples of 3,5 below 1000 is \", sum)  \n",
    "    \n",
    "sum_natural_numbers(1000)  "
   ]
  }
 ],
 "metadata": {
  "kernelspec": {
   "display_name": "Python 3.9.12 ('base')",
   "language": "python",
   "name": "python3"
  },
  "language_info": {
   "codemirror_mode": {
    "name": "ipython",
    "version": 3
   },
   "file_extension": ".py",
   "mimetype": "text/x-python",
   "name": "python",
   "nbconvert_exporter": "python",
   "pygments_lexer": "ipython3",
   "version": "3.9.12"
  },
  "orig_nbformat": 4,
  "vscode": {
   "interpreter": {
    "hash": "ad2bdc8ecc057115af97d19610ffacc2b4e99fae6737bb82f5d7fb13d2f2c186"
   }
  }
 },
 "nbformat": 4,
 "nbformat_minor": 2
}
